{
 "cells": [
  {
   "cell_type": "code",
   "id": "mexican-verification",
   "metadata": {
    "ExecuteTime": {
     "end_time": "2024-04-16T09:42:12.048969Z",
     "start_time": "2024-04-16T09:42:05.223877Z"
    }
   },
   "source": [
    "from spacy.tokens import DocBin\n",
    "import spacy\n",
    "import json\n",
    "from tqdm import tqdm\n",
    "import spacy\n",
    "from spacy.tokens import DocBin\n",
    "import random"
   ],
   "outputs": [],
   "execution_count": 1
  },
  {
   "cell_type": "code",
   "id": "experienced-covering",
   "metadata": {
    "ExecuteTime": {
     "end_time": "2024-04-16T09:42:12.068645Z",
     "start_time": "2024-04-16T09:42:12.053701Z"
    }
   },
   "source": [
    "def load_data(file):\n",
    "    with open (file, \"r\", encoding=\"utf-8\") as f:\n",
    "        data = json.load(f)\n",
    "    return (data)\n",
    "\n",
    "def write_data(file, data):\n",
    "    with open (file, \"w\", encoding=\"utf-8\") as f:\n",
    "        json.dump(data, f, indent=4)"
   ],
   "outputs": [],
   "execution_count": 2
  },
  {
   "metadata": {
    "ExecuteTime": {
     "end_time": "2024-04-16T09:42:31.763745Z",
     "start_time": "2024-04-16T09:42:31.356379Z"
    }
   },
   "cell_type": "code",
   "source": [
    "camp = load_data(\"data/camp.json\")\n",
    "print (camp[0])"
   ],
   "id": "e0ceb04c95aabc33",
   "outputs": [
    {
     "name": "stdout",
     "output_type": "stream",
     "text": [
      "{'text': 'Retrieved from \"https://en.wikipedia.org/wiki/Matthew_Justus\"Not to be confused with Columbushaus.  KZ Columbia Memorial, diagonally opposite to its former site now covered by the airport building Columbia concentration camp  was a Nazi concentration camp situated in the Tempelhof area of Berlin. It was one of the first such institutions established by the regime.', 'spans': [{'start': 290, 'end': 296, 'label': 'CAMP'}]}\n"
     ]
    }
   ],
   "execution_count": 4
  },
  {
   "cell_type": "code",
   "id": "regulated-custom",
   "metadata": {
    "ExecuteTime": {
     "end_time": "2024-04-16T09:43:09.852672Z",
     "start_time": "2024-04-16T09:43:09.843228Z"
    }
   },
   "source": [
    "def convert_data(data):\n",
    "    final = []\n",
    "    for item in data:\n",
    "        text = item[\"text\"]\n",
    "        ents = item[\"spans\"]\n",
    "        final_ents = []\n",
    "        for ent in ents:\n",
    "            start, end, label = ent[\"start\"], ent[\"end\"], ent[\"label\"]\n",
    "            final_ents.append((start, end, label))\n",
    "        ents = {\"entities\": final_ents}\n",
    "        final.append([text, ents])\n",
    "    return (final)"
   ],
   "outputs": [],
   "execution_count": 5
  },
  {
   "metadata": {
    "ExecuteTime": {
     "end_time": "2024-04-16T09:43:43.213746Z",
     "start_time": "2024-04-16T09:43:42.618928Z"
    }
   },
   "cell_type": "code",
   "source": [
    "camp = convert_data(camp)\n",
    "random.shuffle(camp)\n",
    "camp_train = camp[0:500]\n",
    "camp_valid = camp[501:1000]\n",
    "# write_data(\"data/camp_train.json\", camp_train)\n",
    "# write_data(\"data/camp_valid.json\", camp_valid)\n",
    "write_data(\"data/camp_train_GG.json\", camp_train)\n",
    "write_data(\"data/camp_valid_GG.json\", camp_valid)\n",
    "print (camp_train[0])"
   ],
   "id": "6af8d87d8f4ed7c2",
   "outputs": [
    {
     "name": "stdout",
     "output_type": "stream",
     "text": [
      "['The Greek campaign ended with a complete German and Italian victory. The British did not have the military resources to carry out big simultaneous operations in North Africa and the Balkans. Even if they had been able to block the Axis advance, they would have been unable to exploit the situation by a counter-thrust across the Balkans. The British came very near to holding Crete and perhaps other islands that would have provided air support for naval operations throughout the eastern Mediterranean. In enumerating the reasons for the complete Axis victory in Greece, the following factors were of greatest significance:', {'entities': [(41, 47, 'CAMP')]}]\n"
     ]
    }
   ],
   "execution_count": 6
  },
  {
   "cell_type": "code",
   "id": "raised-fundamental",
   "metadata": {
    "ExecuteTime": {
     "end_time": "2024-04-16T09:44:00.565218Z",
     "start_time": "2024-04-16T09:43:59.049256Z"
    }
   },
   "source": [
    "nlp = spacy.blank(\"en\") \n",
    "def create_training(TRAIN_DATA):\n",
    "    db = DocBin() # create a DocBin object\n",
    "    for text, annot in tqdm(TRAIN_DATA): # data in previous format\n",
    "        doc = nlp.make_doc(text) # create doc object from text\n",
    "        ents = []\n",
    "        for start, end, label in annot[\"entities\"]: # add character indexes\n",
    "            span = doc.char_span(start, end, label=label, alignment_mode=\"contract\")\n",
    "            if span is None:\n",
    "                print(\"Skipping entity\")\n",
    "            else:\n",
    "                ents.append(span)\n",
    "        doc.ents = ents # label the text with the ents\n",
    "        db.add(doc)\n",
    "    return (db)"
   ],
   "outputs": [],
   "execution_count": 7
  },
  {
   "cell_type": "code",
   "id": "sixth-township",
   "metadata": {
    "ExecuteTime": {
     "end_time": "2024-04-16T09:44:38.236609Z",
     "start_time": "2024-04-16T09:44:34.058024Z"
    }
   },
   "source": [
    "camp_train = create_training(camp_train)\n",
    "# camp_train.to_disk(\"./data/camp_train.spacy\")\n",
    "camp_train.to_disk(\"./data/camp_train_GG.spacy\")\n",
    "\n",
    "camp_valid = create_training(camp_valid)\n",
    "# camp_valid.to_disk(\"./data/camp_valid.spacy\")\n",
    "camp_train.to_disk(\"./data/camp_train_GG.spacy\")\n"
   ],
   "outputs": [
    {
     "name": "stderr",
     "output_type": "stream",
     "text": [
      "100%|██████████| 500/500 [00:02<00:00, 224.72it/s]\n",
      "100%|██████████| 499/499 [00:01<00:00, 363.93it/s]\n"
     ]
    }
   ],
   "execution_count": 8
  }
 ],
 "metadata": {
  "kernelspec": {
   "display_name": "Python 3",
   "language": "python",
   "name": "python3"
  },
  "language_info": {
   "codemirror_mode": {
    "name": "ipython",
    "version": 3
   },
   "file_extension": ".py",
   "mimetype": "text/x-python",
   "name": "python",
   "nbconvert_exporter": "python",
   "pygments_lexer": "ipython3",
   "version": "3.8.8"
  }
 },
 "nbformat": 4,
 "nbformat_minor": 5
}
