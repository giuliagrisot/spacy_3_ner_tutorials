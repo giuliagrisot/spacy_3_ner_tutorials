{
 "cells": [
  {
   "cell_type": "code",
   "id": "promising-radar",
   "metadata": {
    "ExecuteTime": {
     "end_time": "2024-04-16T09:40:57.967537Z",
     "start_time": "2024-04-16T09:40:50.817139Z"
    }
   },
   "source": [
    "from spacy.tokens import DocBin\n",
    "import spacy\n",
    "import json\n",
    "from tqdm import tqdm\n",
    "import random"
   ],
   "outputs": [],
   "execution_count": 1
  },
  {
   "cell_type": "code",
   "id": "rural-acquisition",
   "metadata": {
    "ExecuteTime": {
     "end_time": "2024-04-16T09:41:06.549564Z",
     "start_time": "2024-04-16T09:41:06.529234Z"
    }
   },
   "source": [
    "def load_data(file):\n",
    "    with open (file, \"r\", encoding=\"utf-8\") as f:\n",
    "        data = json.load(f)\n",
    "    return (data)"
   ],
   "outputs": [],
   "execution_count": 2
  },
  {
   "cell_type": "code",
   "id": "about-ukraine",
   "metadata": {
    "ExecuteTime": {
     "end_time": "2024-04-16T09:41:12.493125Z",
     "start_time": "2024-04-16T09:41:12.472665Z"
    }
   },
   "source": [
    "camp_train = load_data(\"data/camp_train.json\")"
   ],
   "outputs": [],
   "execution_count": 3
  },
  {
   "cell_type": "code",
   "id": "increased-buddy",
   "metadata": {
    "ExecuteTime": {
     "end_time": "2024-04-16T09:41:14.500999Z",
     "start_time": "2024-04-16T09:41:14.485249Z"
    }
   },
   "source": [
    "print (camp_train[0])"
   ],
   "outputs": [
    {
     "name": "stdout",
     "output_type": "stream",
     "text": [
      "['In charge of Gestapo headquarters In 1942 Gestapo took over the building of the state archives, \"Arkivet\" in Kristiansand.  The local Gestapo commander was Rudolf Kerner, and it was he who determined who should be heard. During the war was about 3,500 Norwegians from Sørlandet arrested on of more than four days. Over 400 were tortured by the German security police and Gestapo, and 162 died in concentration camps or were executed. One of the tortured was resistance fighter Louis Hogganvik. \"Horror house\" as the nickname was of Arkivet, is today the only surviving Gestapo headquarters in  Norway, and appears almost authentic. Kerner was in charge of several  German security police actions at Sørlandet in World War II together with the Norwegian Statspolitiet .', {'entities': [[344, 350, 'CAMP'], [665, 671, 'CAMP']]}]\n"
     ]
    }
   ],
   "execution_count": 4
  },
  {
   "cell_type": "code",
   "id": "classical-stopping",
   "metadata": {
    "ExecuteTime": {
     "end_time": "2024-04-16T09:41:34.568782Z",
     "start_time": "2024-04-16T09:41:34.552049Z"
    }
   },
   "source": [
    "camp_valid = load_data(\"data/camp_valid.json\")"
   ],
   "outputs": [],
   "execution_count": 5
  },
  {
   "cell_type": "code",
   "execution_count": 8,
   "id": "laden-technique",
   "metadata": {},
   "outputs": [],
   "source": [
    "nlp = spacy.blank(\"en\")\n",
    "def create_training(TRAIN_DATA):\n",
    "    db = DocBin()\n",
    "    for text, annot in tqdm(TRAIN_DATA):\n",
    "        doc = nlp.make_doc(text)\n",
    "        ents = []\n",
    "        for start, end, label in annot[\"entities\"]:\n",
    "            span = doc.char_span(start, end, label=label, alignment_mode=\"contract\")\n",
    "            if span is None:\n",
    "                print (\"Skipping entity\")\n",
    "            else:\n",
    "                ents.append(span)\n",
    "        doc.ents = ents\n",
    "        db.add(doc)\n",
    "    return (db)"
   ]
  },
  {
   "cell_type": "code",
   "execution_count": 9,
   "id": "sexual-equilibrium",
   "metadata": {},
   "outputs": [
    {
     "name": "stderr",
     "output_type": "stream",
     "text": [
      "100%|██████████| 500/500 [00:00<00:00, 531.13it/s]\n"
     ]
    }
   ],
   "source": [
    "camp_train = create_training(camp_train)\n",
    "camp_train.to_disk(\"./data/camp_train.spacy\")"
   ]
  },
  {
   "cell_type": "code",
   "execution_count": 10,
   "id": "synthetic-chicago",
   "metadata": {},
   "outputs": [
    {
     "name": "stderr",
     "output_type": "stream",
     "text": [
      "100%|██████████| 499/499 [00:00<00:00, 647.76it/s]\n"
     ]
    }
   ],
   "source": [
    "camp_valid = create_training(camp_valid)\n",
    "camp_valid.to_disk(\"./data/camp_valid.spacy\")"
   ]
  },
  {
   "cell_type": "code",
   "execution_count": null,
   "id": "persistent-combine",
   "metadata": {},
   "outputs": [],
   "source": []
  }
 ],
 "metadata": {
  "kernelspec": {
   "display_name": "Python 3",
   "language": "python",
   "name": "python3"
  },
  "language_info": {
   "codemirror_mode": {
    "name": "ipython",
    "version": 3
   },
   "file_extension": ".py",
   "mimetype": "text/x-python",
   "name": "python",
   "nbconvert_exporter": "python",
   "pygments_lexer": "ipython3",
   "version": "3.8.8"
  }
 },
 "nbformat": 4,
 "nbformat_minor": 5
}
